{
 "cells": [
  {
   "cell_type": "code",
   "execution_count": 1,
   "metadata": {},
   "outputs": [],
   "source": [
    "\"\"\"import stuff\"\"\"\n",
    "\n",
    "import numpy as np\n",
    "import cv2\n",
    "import urllib.request\n",
    "import os, random\n",
    "from PIL import Image\n",
    "\n",
    "QUANT = 16\n",
    "PIXEL_SIZE  = 128\n",
    "INPUT_IMG_RESIZE = 128"
   ]
  },
  {
   "cell_type": "code",
   "execution_count": 60,
   "metadata": {},
   "outputs": [],
   "source": [
    "\"\"\"helper functions\"\"\"\n",
    "\n",
    "def process_img_url_128(img_url):\n",
    "    urllib.request.urlretrieve(img_url, \"img.jpg\")\n",
    "    img = cv2.imread('img.jpg')[:,:,::-1]\n",
    "    img = cv2.resize(img, dsize = (INPUT_IMG_RESIZE, INPUT_IMG_RESIZE), interpolation = cv2.INTER_CUBIC)\n",
    "    np.asarray('img')\n",
    "    return img\n",
    "\n",
    "\n",
    "quantize = np.vectorize(lambda x : 255 if x >= 248 \n",
    "                        else QUANT * round(x / QUANT))"
   ]
  },
  {
   "cell_type": "code",
   "execution_count": null,
   "metadata": {},
   "outputs": [],
   "source": [
    "\"\"\"actually do stuff\"\"\"\n",
    "\n",
    "img_url = input(\"Enter image url of your album \\n Must be jpg!\")\n",
    "output_name = input(\"Select the name of your output\")\n",
    "input_img = quantize(process_img_url_128(img_url))\n",
    "output_img = np.empty((PIXEL_SIZE * INPUT_IMG_RESIZE, PIXEL_SIZE * INPUT_IMG_RESIZE, 3), dtype = np.uint8)\n",
    "\n",
    "for i in range(INPUT_IMG_RESIZE):\n",
    "    for j in range(INPUT_IMG_RESIZE):\n",
    "        color = 'colors/' + '_'.join(np.char.mod('%d', input_img[i, j]))\n",
    "        try: \n",
    "            choice = random.choice(os.listdir(color))\n",
    "            pixel = (cv2.imread(os.path.join(os.path.abspath(color), choice)))[:,:,::-1]\n",
    "        except:\n",
    "            print(\"skipped\", end = \", \")\n",
    "            pixel = np.tile(input_img[i, j, :], [PIXEL_SIZE, PIXEL_SIZE, 1])\n",
    "        print(\"%.2f\" % (100 * ((INPUT_IMG_RESIZE * i + j + 1) / INPUT_IMG_RESIZE ** 2)) + \"% done\")\n",
    "        np.asarray('pixel')\n",
    "        output_img[PIXEL_SIZE * i: PIXEL_SIZE * (i + 1), PIXEL_SIZE * j: PIXEL_SIZE * (j + 1), :] = pixel\n",
    "\n",
    "output = Image.fromarray(output_img)\n",
    "# output.save('%s.png' % (output_name))\n",
    "output.save('%s.jpg' % (output_name))\n",
    "\n",
    "# output = Image.fromarray(output_img[:,:,::-1])\n",
    "# output.save('%s_%d.png' % (output_name,  2))"
   ]
  }
 ],
 "metadata": {
  "kernelspec": {
   "display_name": "Python 3",
   "language": "python",
   "name": "python3"
  },
  "language_info": {
   "codemirror_mode": {
    "name": "ipython",
    "version": 3
   },
   "file_extension": ".py",
   "mimetype": "text/x-python",
   "name": "python",
   "nbconvert_exporter": "python",
   "pygments_lexer": "ipython3",
   "version": "3.11.0"
  },
  "orig_nbformat": 4
 },
 "nbformat": 4,
 "nbformat_minor": 2
}
